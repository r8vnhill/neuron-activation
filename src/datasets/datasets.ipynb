{
 "cells": [
  {
   "cell_type": "markdown",
   "source": [
    "# Datasets"
   ],
   "metadata": {
    "collapsed": false
   },
   "id": "3fb4bc1732fee1e2"
  },
  {
   "cell_type": "code",
   "execution_count": 7,
   "outputs": [],
   "source": [
    "from pathlib import Path\n",
    "\n",
    "ROOT_DIR = Path('..') / '..'\n",
    "!pip install -q -r {ROOT_DIR / 'requirements.txt'}"
   ],
   "metadata": {
    "collapsed": false,
    "ExecuteTime": {
     "end_time": "2023-08-19T04:33:16.276220900Z",
     "start_time": "2023-08-19T04:33:14.324854400Z"
    }
   },
   "id": "64906afc5334844a"
  },
  {
   "cell_type": "markdown",
   "source": [
    "## Utility Functions"
   ],
   "metadata": {
    "collapsed": false
   },
   "id": "33e2ae0c5ab0f3fb"
  },
  {
   "cell_type": "code",
   "execution_count": 8,
   "id": "initial_id",
   "metadata": {
    "collapsed": true,
    "ExecuteTime": {
     "end_time": "2023-08-19T04:33:16.282726400Z",
     "start_time": "2023-08-19T04:33:16.278193600Z"
    }
   },
   "outputs": [],
   "source": [
    "from datasets import SizedDataset\n",
    "from torch.utils.data import DataLoader\n",
    "\n",
    "def load_dataset(dataset: SizedDataset):\n",
    "    \"\"\"\n",
    "    Loads the provided dataset and prints batches of data samples and corresponding\n",
    "    labels.\n",
    "\n",
    "    :param dataset: An instance of `SizedDataset` containing data samples and labels.\n",
    "    \"\"\"\n",
    "    data = DataLoader(dataset, batch_size=5)\n",
    "    for x, y in data:\n",
    "        print(f\"Data::{x.dtype} {x.shape}:\")\n",
    "        print(x)\n",
    "        print(f\"Labels::{y.dtype} {y.shape}:\")\n",
    "        print(y)"
   ]
  },
  {
   "cell_type": "markdown",
   "source": [
    "## Random Uniform Dataset"
   ],
   "metadata": {
    "collapsed": false
   },
   "id": "35f14d0e3a790914"
  },
  {
   "cell_type": "code",
   "execution_count": 9,
   "outputs": [
    {
     "name": "stdout",
     "output_type": "stream",
     "text": [
      "Data::torch.float32 torch.Size([5, 8]):\n",
      "tensor([[0.4859, 0.3153, 0.7910, 0.8350, 0.0757, 0.0572, 0.8253, 0.2244],\n",
      "        [0.1048, 0.7102, 0.9724, 0.7968, 0.4890, 0.2614, 0.3919, 0.8870],\n",
      "        [0.5683, 0.1230, 0.1857, 0.4673, 0.1865, 0.8768, 0.7154, 0.3217],\n",
      "        [0.0305, 0.6168, 0.2686, 0.2557, 0.5193, 0.0839, 0.5857, 0.5615],\n",
      "        [0.7598, 0.7832, 0.5571, 0.0155, 0.8894, 0.0213, 0.1412, 0.6017]])\n",
      "Labels::torch.int64 torch.Size([5]):\n",
      "tensor([1, 2, 2, 9, 1])\n",
      "Data::torch.float32 torch.Size([5, 8]):\n",
      "tensor([[0.3063, 0.1793, 0.9126, 0.1125, 0.2008, 0.7599, 0.3883, 0.8880],\n",
      "        [0.3749, 0.8421, 0.1052, 0.9782, 0.1039, 0.0119, 0.4766, 0.0864],\n",
      "        [0.0158, 0.3021, 0.4151, 0.6539, 0.6617, 0.3745, 0.8317, 0.3407],\n",
      "        [0.6944, 0.1863, 0.2394, 0.6343, 0.1032, 0.2663, 0.1582, 0.0735],\n",
      "        [0.6568, 0.8372, 0.8177, 0.3207, 0.8054, 0.1480, 0.0408, 0.4844]])\n",
      "Labels::torch.int64 torch.Size([5]):\n",
      "tensor([6, 5, 4, 2, 2])\n"
     ]
    }
   ],
   "source": [
    "from datasets import RandomUniformDataset\n",
    "\n",
    "load_dataset(RandomUniformDataset(n_examples=10, n_features=8, n_classes=10))"
   ],
   "metadata": {
    "collapsed": false,
    "ExecuteTime": {
     "end_time": "2023-08-19T04:33:16.300406400Z",
     "start_time": "2023-08-19T04:33:16.280743100Z"
    }
   },
   "id": "ac0deffe80f321ea"
  },
  {
   "cell_type": "markdown",
   "source": [
    "## Random Normal Dataset"
   ],
   "metadata": {
    "collapsed": false
   },
   "id": "d282a7bb1a564040"
  },
  {
   "cell_type": "code",
   "execution_count": 10,
   "outputs": [
    {
     "name": "stdout",
     "output_type": "stream",
     "text": [
      "Data::torch.float32 torch.Size([5, 8]):\n",
      "tensor([[-0.5836,  1.6883, -0.1915, -1.0629, -0.8910,  1.0972, -0.1911, -0.3265],\n",
      "        [ 0.4118,  1.0188, -0.0678,  0.0740,  1.3948,  1.5295,  1.2983,  0.6214],\n",
      "        [ 0.2540, -0.6213,  0.8664, -0.2767,  0.8486,  0.7382, -0.6392, -0.3179],\n",
      "        [-0.0293, -0.2494,  0.7948,  0.8547, -0.8654, -0.7093, -0.5146, -1.2879],\n",
      "        [ 0.3160, -1.1510,  2.1285, -0.7282, -0.1888, -1.0729, -0.0365,  2.9816]])\n",
      "Labels::torch.int64 torch.Size([5]):\n",
      "tensor([4, 8, 7, 8, 9])\n",
      "Data::torch.float32 torch.Size([5, 8]):\n",
      "tensor([[ 0.7021, -0.3555,  0.3389, -0.8143,  0.1166, -0.1489, -0.1894, -0.0329],\n",
      "        [-1.6957, -1.1465, -0.2308,  1.5503, -0.1744,  0.6963, -0.3979, -1.0032],\n",
      "        [ 0.3360,  0.1605,  0.8000, -0.6242,  1.5249,  0.1966,  1.9224, -0.4823],\n",
      "        [-0.8446, -1.2487,  0.9061, -0.1132,  0.0975, -2.0703,  0.4468,  1.5608],\n",
      "        [-0.8773,  0.3835, -0.1492, -0.1093, -0.5356, -0.4536,  0.4860, -1.4893]])\n",
      "Labels::torch.int64 torch.Size([5]):\n",
      "tensor([2, 0, 4, 7, 3])\n"
     ]
    }
   ],
   "source": [
    "from datasets import RandomNormalDataset\n",
    "\n",
    "load_dataset(RandomNormalDataset(n_examples=10, n_features=8, n_classes=10))"
   ],
   "metadata": {
    "collapsed": false,
    "ExecuteTime": {
     "end_time": "2023-08-19T04:33:16.360378900Z",
     "start_time": "2023-08-19T04:33:16.300406400Z"
    }
   },
   "id": "dd10060abc58a127"
  },
  {
   "cell_type": "markdown",
   "source": [
    "## Bernoulli Dataset"
   ],
   "metadata": {
    "collapsed": false
   },
   "id": "87ab3d7136c7e14a"
  },
  {
   "cell_type": "code",
   "execution_count": 11,
   "outputs": [
    {
     "name": "stdout",
     "output_type": "stream",
     "text": [
      "Data::torch.float32 torch.Size([5, 8]):\n",
      "tensor([[0., 0., 0., 0., 0., 1., 1., 0.],\n",
      "        [0., 0., 0., 0., 1., 0., 1., 1.],\n",
      "        [0., 1., 1., 1., 0., 0., 1., 0.],\n",
      "        [1., 0., 0., 1., 0., 0., 0., 0.],\n",
      "        [1., 1., 0., 1., 0., 0., 0., 0.]])\n",
      "Labels::torch.int64 torch.Size([5]):\n",
      "tensor([2, 7, 5, 5, 2])\n",
      "Data::torch.float32 torch.Size([5, 8]):\n",
      "tensor([[1., 0., 1., 0., 1., 1., 1., 0.],\n",
      "        [1., 1., 1., 1., 0., 0., 0., 0.],\n",
      "        [0., 1., 1., 1., 0., 0., 0., 1.],\n",
      "        [0., 1., 0., 0., 0., 0., 0., 0.],\n",
      "        [0., 1., 1., 1., 0., 0., 0., 1.]])\n",
      "Labels::torch.int64 torch.Size([5]):\n",
      "tensor([1, 0, 6, 1, 1])\n"
     ]
    }
   ],
   "source": [
    "from datasets import BernoulliDataset\n",
    "\n",
    "load_dataset(BernoulliDataset(n_examples=10, n_features=8, n_classes=10))"
   ],
   "metadata": {
    "collapsed": false,
    "ExecuteTime": {
     "end_time": "2023-08-19T04:33:16.361379600Z",
     "start_time": "2023-08-19T04:33:16.360378900Z"
    }
   },
   "id": "f03b561c40e82cb0"
  }
 ],
 "metadata": {
  "kernelspec": {
   "display_name": "Python 3",
   "language": "python",
   "name": "python3"
  },
  "language_info": {
   "codemirror_mode": {
    "name": "ipython",
    "version": 2
   },
   "file_extension": ".py",
   "mimetype": "text/x-python",
   "name": "python",
   "nbconvert_exporter": "python",
   "pygments_lexer": "ipython2",
   "version": "2.7.6"
  }
 },
 "nbformat": 4,
 "nbformat_minor": 5
}
