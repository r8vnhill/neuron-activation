{
 "cells": [
  {
   "cell_type": "markdown",
   "source": [
    "# Feed-Forward Network\n",
    "\n",
    "Feed-forward neural networks are a category of ANNs where the units don't form cyclical connections. This ensures the \n",
    "data flows only in a single direction—starting from the input nodes, moving through any hidden nodes, and culminating at\n",
    "the output nodes. These networks lack the feedback loops that would reintroduce the model's outputs back into itself, \n",
    "differentiating feed-forward networks from recurrent neural networks. They focus on distinct data hierarchies, unlike \n",
    "convolutional networks that prioritize spatial hierarchies, or RNNs which are designed for sequences and possess a form \n",
    "of memory.\n",
    "\n",
    "## Feed-Forward Network Architecture\n",
    "\n",
    "The architecture of a feed-forward network is characterized by the number of layers and the number of nodes in each\n",
    "layer. The number of layers is determined by the complexity of the problem. The number of nodes in each layer is\n",
    "determined by the number of input features and the number of output features. The number of nodes in the hidden layers\n",
    "is determined by the number of nodes in the input and output layers. The number of nodes in the hidden layers is\n",
    "determined by the number of nodes in the input and output layers.\n",
    "\n",
    "## Activation Functions\n",
    "\n",
    "Each layer in the network should have an activation function, you can check some implementation and usage examples in the ``activations`` module.\n",
    "\n",
    "## Example\n",
    "\n",
    "In the following example, we will create a feed-forward network with 5 input features, 2 hidden layers with 10 and 4 nodes respectively, and 5 output classes. We will use the ``relu`` and ``tanh`` activation functions for the hidden and output layers respectively. "
   ],
   "metadata": {
    "collapsed": false
   },
   "id": "3898b1d8a31bb5c8"
  },
  {
   "cell_type": "code",
   "execution_count": null,
   "outputs": [],
   "source": [
    "from activations import relu, tanh\n",
    "from networks import FeedForwardNetwork\n",
    "\n",
    "network = FeedForwardNetwork(5, [10, 4], [relu, tanh], 5)\n",
    "print(network)"
   ],
   "metadata": {
    "collapsed": false
   },
   "id": "174719b3ee39a74a"
  }
 ],
 "metadata": {
  "kernelspec": {
   "display_name": "Python 3",
   "language": "python",
   "name": "python3"
  },
  "language_info": {
   "codemirror_mode": {
    "name": "ipython",
    "version": 2
   },
   "file_extension": ".py",
   "mimetype": "text/x-python",
   "name": "python",
   "nbconvert_exporter": "python",
   "pygments_lexer": "ipython2",
   "version": "2.7.6"
  }
 },
 "nbformat": 4,
 "nbformat_minor": 5
}
