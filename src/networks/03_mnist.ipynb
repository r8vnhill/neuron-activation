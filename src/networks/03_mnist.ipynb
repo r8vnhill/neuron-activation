{
 "cells": [
  {
   "cell_type": "markdown",
   "source": [
    "# MNIST Dataset Overview\n",
    "\n",
    "The MNIST dataset comprises 70,000 grayscale images of handwritten digits. Specifically:\n",
    "\n",
    "- **Image Dimensions**: Each image measures 28x28 pixels.\n",
    "- **Pixel Representation**: Pixels range from 0 (black) to 255 (white).\n",
    "- **Dataset Split**:\n",
    "  - **Training Set**: 60,000 images\n",
    "  - **Test Set**: 10,000 images\n",
    "\n",
    "Due to its simplicity and established benchmarks, MNIST is a popular choice for introductory machine learning exercises, often likened to the \"Hello, World!\" of machine learning.\n",
    "\n",
    "## Loading and Visualizing the MNIST Dataset\n",
    "\n",
    "Let's load the dataset and randomly visualize some of the handwritten digits:"
   ],
   "metadata": {
    "collapsed": false
   },
   "id": "a20141c21157ada9"
  },
  {
   "cell_type": "code",
   "execution_count": 1,
   "outputs": [
    {
     "data": {
      "text/plain": "<Figure size 600x900 with 3 Axes>",
      "image/png": "[encoded data removed]"
     },
     "metadata": {},
     "output_type": "display_data"
    }
   ],
   "source": [
    "from random import randint\n",
    "from matplotlib.pyplot import figure\n",
    "from matplotlib.axes import Axes\n",
    "from numpy import ndarray\n",
    "from torchvision.transforms import ToTensor\n",
    "from utils import DATA_PATH\n",
    "from torchvision.datasets import MNIST\n",
    "\n",
    "\n",
    "def mnist_dataset() -> MNIST:\n",
    "    \"\"\"Load the MNIST dataset\"\"\"\n",
    "    return MNIST(str(DATA_PATH / \"mnist\"), train=False, transform=ToTensor(), download=True)\n",
    "\n",
    "\n",
    "def n_examples():\n",
    "    \"\"\"Return the number of examples to visualize\"\"\"\n",
    "    return 3\n",
    "\n",
    "\n",
    "def setup_figure() -> ndarray[Axes]:\n",
    "    \"\"\"Set up a figure for visualization\"\"\"\n",
    "    fig = figure(figsize=(6, n_examples() * 3))\n",
    "    grid_spec = fig.add_gridspec(1, 3, hspace=2)\n",
    "    axs = grid_spec.subplots(sharey='row')\n",
    "    return axs\n",
    "\n",
    "\n",
    "def display_examples(*axs: Axes):\n",
    "    \"\"\"Display a few examples from the MNIST dataset\"\"\"\n",
    "    for i in range(n_examples()):\n",
    "        idx = randint(0, len(mnist_dataset()))\n",
    "        img, label = mnist_dataset()[idx]\n",
    "        view = img.view(28, 28).numpy()\n",
    "        axs[i].set_title(f\"Class: {label}\")\n",
    "        axs[i].imshow(view)\n",
    "\n",
    "\n",
    "display_examples(*setup_figure())"
   ],
   "metadata": {
    "collapsed": false,
    "ExecuteTime": {
     "end_time": "2023-08-30T02:10:45.193519900Z",
     "start_time": "2023-08-30T02:10:39.583917700Z"
    }
   },
   "id": "f96f7abd282afa4b"
  }
 ],
 "metadata": {
  "kernelspec": {
   "display_name": "Python 3",
   "language": "python",
   "name": "python3"
  },
  "language_info": {
   "codemirror_mode": {
    "name": "ipython",
    "version": 2
   },
   "file_extension": ".py",
   "mimetype": "text/x-python",
   "name": "python",
   "nbconvert_exporter": "python",
   "pygments_lexer": "ipython2",
   "version": "2.7.6"
  }
 },
 "nbformat": 4,
 "nbformat_minor": 5
}
