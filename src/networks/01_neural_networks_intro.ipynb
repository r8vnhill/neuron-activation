{
 "cells": [
  {
   "cell_type": "markdown",
   "source": [
    "# Neural Networks\n",
    "\n",
    "Neural networks, often referred to as artificial neural networks (ANNs), are computational systems that attempt to mimic\n",
    "the way the human brain processes information. Inspired by biological neural structures, ANNs are central to deep \n",
    "learning, a subset of machine learning. Over the past decade, they've driven many AI advancements, setting benchmark \n",
    "performance in tasks like image recognition, natural language processing, and game-playing strategies.\n",
    "\n",
    "## Structure\n",
    "\n",
    "A neural network is usually built with several layers of interconnected nodes or \"neurons\". Every connection has a \n",
    "weight that's adjusted during training. The primary layers of a neural network include:\n",
    "\n",
    "1. **Input Layer:** Accepts input features and sends them to the next layer.\n",
    "2. **Hidden Layers:** Intermediate layers that handle input data by processing them through weighted connections and \n",
    "   activation functions.\n",
    "3. **Output Layer:** Yields the ultimate predictions or categorizations.\n",
    "\n",
    "Activation functions introduce non-linearity when applied by neurons to their inputs. This non-linearity is crucial as \n",
    "it enables the network to capture complex patterns and relationships in the data."
   ],
   "metadata": {
    "collapsed": false
   },
   "id": "cfb58ab67ac63cb0"
  }
 ],
 "metadata": {
  "kernelspec": {
   "display_name": "Python 3",
   "language": "python",
   "name": "python3"
  },
  "language_info": {
   "codemirror_mode": {
    "name": "ipython",
    "version": 2
   },
   "file_extension": ".py",
   "mimetype": "text/x-python",
   "name": "python",
   "nbconvert_exporter": "python",
   "pygments_lexer": "ipython2",
   "version": "2.7.6"
  }
 },
 "nbformat": 4,
 "nbformat_minor": 5
}
