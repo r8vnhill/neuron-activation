{
 "cells": [
  {
   "cell_type": "markdown",
   "source": [
    "# Using a Pre-Trained Model"
   ],
   "metadata": {
    "collapsed": false
   },
   "id": "4bf42f959cedb34d"
  },
  {
   "cell_type": "code",
   "execution_count": null,
   "outputs": [],
   "source": [
    "from random import randint\n",
    "\n",
    "import torch\n",
    "from matplotlib.axes import Axes\n",
    "from matplotlib.pyplot import figure\n",
    "from numpy import loadtxt\n",
    "from numpy import ndarray\n",
    "from torch.utils.data import DataLoader\n",
    "from torchvision.datasets import MNIST\n",
    "from torchvision.datasets import VisionDataset\n",
    "from torchvision.transforms import ToTensor\n",
    "from tqdm import tqdm\n",
    "\n",
    "from activations import relu\n",
    "from devices import Device\n",
    "from networks import FeedForwardNetwork\n",
    "from networks import NeuralNetwork\n",
    "from utils import DATA_PATH"
   ],
   "metadata": {
    "collapsed": false
   },
   "id": "bf4eadebb1d863d1"
  },
  {
   "cell_type": "markdown",
   "source": [
    "## Loading Model Parameters from Disk\n",
    "\n",
    "In a neural network, parameters constitute the weights and biases between units. They're essential because they are learned and adjusted during the training phase, allowing the model to make accurate predictions or classifications.\n",
    "\n",
    "For our task, we've previously trained a model on the MNIST dataset and saved its parameters to disk. Let's load these parameters and initialize our neural network model for further predictions."
   ],
   "metadata": {
    "collapsed": false
   },
   "id": "22e6194a726a410d"
  },
  {
   "cell_type": "code",
   "execution_count": null,
   "outputs": [],
   "source": [
    "def mnist_model() -> FeedForwardNetwork:\n",
    "    \"\"\"Load the MNIST model\"\"\"\n",
    "\n",
    "    # Load weights and biases for hidden layers\n",
    "    weights = [torch.from_numpy(loadtxt(DATA_PATH / f\"W{i}.txt\")).float() for i in (1, 2)]\n",
    "    biases = [torch.from_numpy(loadtxt(DATA_PATH / f\"b{i}.txt\")).float() for i in (1, 2)]\n",
    "\n",
    "    # Load weights and biases for the output layer\n",
    "    output_weights = torch.from_numpy(loadtxt(DATA_PATH / \"U.txt\")).float()\n",
    "    output_biases = torch.from_numpy(loadtxt(DATA_PATH / \"c.txt\")).float()\n",
    "\n",
    "    # Initialize the neural network model\n",
    "    return FeedForwardNetwork(\n",
    "        n_features=784,\n",
    "        hidden_layer_sizes=[16, 16],\n",
    "        activation_functions=[relu, relu],\n",
    "        n_classes=10,\n",
    "    ).load_parameters(weights, output_weights, biases, output_biases)\n",
    "\n",
    "MNIST_MODEL = mnist_model()\n",
    "# Display the initialized model\n",
    "print(MNIST_MODEL)"
   ],
   "metadata": {
    "collapsed": false
   },
   "id": "dcb045829f9a6719"
  },
  {
   "cell_type": "markdown",
   "source": [
    "## Making Predictions with the Model\n",
    "\n",
    "After successfully loading the model and dataset, it's time to use our model to make predictions. We'll select a subset of images from the MNIST dataset at random and visualize their true and predicted class labels."
   ],
   "metadata": {
    "collapsed": false
   },
   "id": "2df3800316644ecc"
  },
  {
   "cell_type": "code",
   "execution_count": null,
   "outputs": [],
   "source": [
    "N_EXAMPLES = 3\n",
    "DATASET = MNIST(str(DATA_PATH / \"mnist\"), train=False, transform=ToTensor(), download=True)\n",
    "\n",
    "def setup_figure() -> ndarray[Axes]:\n",
    "    \"\"\"Set up a figure for visualization\"\"\"\n",
    "    fig = figure(figsize=(6, N_EXAMPLES * 3))\n",
    "    grid_spec = fig.add_gridspec(1, 3, hspace=2)\n",
    "    axs = grid_spec.subplots(sharey='row')\n",
    "    return axs\n",
    "\n",
    "def display_predictions(*axs: Axes) -> None:\n",
    "    \"\"\"\n",
    "    Visualize predictions for a subset of the MNIST dataset.\n",
    "\n",
    "    This function randomly selects images from the MNIST dataset, makes predictions using\n",
    "    the loaded model, and visualizes the images alongside their true and predicted class labels.\n",
    "\n",
    "    :param axs: A list of Axes objects to display the images and predictions.\n",
    "    \"\"\"\n",
    "    for i in range(N_EXAMPLES):\n",
    "        idx = randint(0, len(DATASET))\n",
    "        img, true_label = DATASET[idx]\n",
    "        img_view = img.view(28, 28).numpy()\n",
    "\n",
    "        # Predicting the class label using the model\n",
    "        pred_prob, pred_label = torch.max(MNIST_MODEL(img.view(1, 784)), dim=1)\n",
    "\n",
    "        # Displaying the image along with true and predicted labels\n",
    "        axs[i].imshow(img_view)\n",
    "        axs[i].set_title(\n",
    "            f\"True Class: {true_label}\\n\"\n",
    "            f\"Predicted Class: {pred_label.item()}\\n\"\n",
    "            f\"Confidence: {pred_prob.item():.2f}\"\n",
    "        )\n",
    "\n",
    "\n",
    "# Using the function to display predictions\n",
    "display_predictions(*setup_figure())"
   ],
   "metadata": {
    "collapsed": false
   },
   "id": "f48d19c5c32e4dea"
  },
  {
   "cell_type": "markdown",
   "source": [
    "## Evaluating Model Performance\n",
    "\n",
    "We want to see how well our model does on all the pictures we have. We'll use a function that goes through all the images in small groups, makes guesses with our model, and then counts how many guesses are right. In the end, we'll see what percentage of the guesses were correct."
   ],
   "metadata": {
    "collapsed": false
   },
   "id": "87f5117a1aee3684"
  },
  {
   "cell_type": "code",
   "execution_count": null,
   "outputs": [],
   "source": [
    "def evaluate_network(\n",
    "        network: NeuralNetwork,\n",
    "        dataset: VisionDataset,\n",
    "        batch_size: int = 100,\n",
    "        device: Device = Device.CPU,\n",
    "):\n",
    "    \"\"\"\n",
    "    Evaluates the performance of a neural network on a given vision dataset.\n",
    "\n",
    "    This function iterates over the dataset using batches, computes predictions for each\n",
    "    batch using the provided network, and tracks the number of correct predictions.\n",
    "    At the end, it prints the accuracy of the network on the dataset.\n",
    "\n",
    "    :param network: The neural network model to be evaluated.\n",
    "    :param dataset: The dataset on which the network is evaluated.\n",
    "    :param batch_size: The size of the batches in which the dataset is divided for\n",
    "                       evaluation.\n",
    "                       Default is 100.\n",
    "    :param device: The device on which the computations are performed (CPU or GPU).\n",
    "\n",
    "    __Note:__\n",
    "\n",
    "    - This function assumes that the network's forward method outputs raw scores (logits)\n",
    "      for each class.\n",
    "    - The accuracy is computed as the percentage of correct predictions over the total\n",
    "      number of samples in the dataset.\n",
    "    \"\"\"\n",
    "    network.to(device)\n",
    "    data_loader = DataLoader(dataset, batch_size=batch_size)\n",
    "    n_correct = 0\n",
    "    for x, y in tqdm(data_loader):\n",
    "        view: torch.Tensor = x.view(-1, network.input_size).to(device)\n",
    "        predictions: torch.Tensor = torch.max(network(view), dim=1)[1]\n",
    "        n_correct += torch.sum(torch.eq(predictions, y.to(device))).item()\n",
    "\n",
    "    print(f\"Accuracy: {(n_correct / len(dataset) * 100):.2f}%\")\n",
    "\n",
    "\n",
    "evaluate_network(MNIST_MODEL, DATASET, device=Device.CPU)"
   ],
   "metadata": {
    "collapsed": false
   },
   "id": "9c87c65b131ba27c"
  }
 ],
 "metadata": {
  "kernelspec": {
   "display_name": "Python 3",
   "language": "python",
   "name": "python3"
  },
  "language_info": {
   "codemirror_mode": {
    "name": "ipython",
    "version": 2
   },
   "file_extension": ".py",
   "mimetype": "text/x-python",
   "name": "python",
   "nbconvert_exporter": "python",
   "pygments_lexer": "ipython2",
   "version": "2.7.6"
  }
 },
 "nbformat": 4,
 "nbformat_minor": 5
}
