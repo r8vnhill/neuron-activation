{
 "cells": [
  {
   "cell_type": "code",
   "execution_count": 1,
   "outputs": [],
   "source": [
    "import sys\n",
    "from pathlib import Path\n",
    "\n",
    "from torch.utils.benchmark import timer\n",
    "\n",
    "from loss import cross_entropy\n",
    "\n",
    "ROOT_DIR = Path('..') / '..'\n",
    "!pip install -q -r {ROOT_DIR/ 'requirements.txt'}\n",
    "\n",
    "import random\n",
    "import torch\n",
    "\n",
    "from devices import Device\n",
    "from matplotlib import pyplot\n",
    "from numpy import loadtxt, ndarray\n",
    "from torch.utils.data import DataLoader\n",
    "from torchvision.datasets import MNIST\n",
    "from torchvision.transforms import ToTensor\n",
    "\n",
    "import loss\n",
    "\n",
    "from activations import relu, sigmoid, celu\n",
    "from datasets import RandomUniformDataset\n",
    "from networks import FeedForwardNetwork\n",
    "from optimizers import StochasticGradientDescent\n",
    "from utils import DATA_PATH"
   ],
   "metadata": {
    "collapsed": false,
    "ExecuteTime": {
     "end_time": "2023-08-21T16:00:30.306606500Z",
     "start_time": "2023-08-21T16:00:25.837173300Z"
    }
   },
   "id": "829cb43cfed9f79e"
  },
  {
   "cell_type": "markdown",
   "source": [
    "# Neural Networks\n",
    "\n",
    "Neural networks, often referred to as artificial neural networks (ANNs), are computational systems that attempt to mimic the way the human brain processes information. Inspired by biological neural structures, ANNs are central to deep learning, a subset of machine learning. Over the past decade, they've driven many AI advancements, setting benchmark performance in tasks like image recognition, natural language processing, and game-playing strategies.\n",
    "\n",
    "## Structure\n",
    "\n",
    "A neural network is usually built with several layers of interconnected nodes or \"neurons\". Every connection has a weight that's adjusted during training. The primary layers of a neural network include:\n",
    "\n",
    "1. **Input Layer:** Accepts input features and sends them to the next layer.\n",
    "2. **Hidden Layers:** Intermediate layers that handle input data by processing them through weighted connections and activation functions.\n",
    "3. **Output Layer:** Yields the ultimate predictions or categorizations.\n",
    "\n",
    "Activation functions introduce non-linearity when applied by neurons to their inputs. This non-linearity is crucial as it enables the network to capture complex patterns and relationships in the data.\n",
    "\n",
    "In this notebook, we will employ a straightforward feed-forward neural network to categorize images from the MNIST dataset. This network boasts two hidden layers with 16 units each, using the ReLU activation function. The output layer consists of 10 units, each representing a class, and applies the softmax activation function. After training the network, its parameters were saved. We will now load them to visualize a few sample predictions.\n",
    "\n",
    "## Feed-Forward Network\n",
    "\n",
    "Feed-forward neural networks are a category of ANNs where the units don't form cyclical connections. This ensures the data flows only in a single direction—starting from the input nodes, moving through any hidden nodes, and culminating at the output nodes. These networks lack the feedback loops that would reintroduce the model's outputs back into itself, differentiating feed-forward networks from recurrent neural networks. They focus on distinct data hierarchies, unlike convolutional networks that prioritize spatial hierarchies, or RNNs which are designed for sequences and possess a form of memory."
   ],
   "metadata": {
    "collapsed": false
   },
   "id": "41734d4901bd26ac"
  },
  {
   "cell_type": "markdown",
   "source": [
    "### MNIST Dataset Overview\n",
    "\n",
    "The MNIST dataset comprises 70,000 grayscale images of handwritten digits. Specifically:\n",
    "\n",
    "- **Image Dimensions**: Each image measures 28x28 pixels.\n",
    "- **Pixel Representation**: Pixels range from 0 (black) to 255 (white).\n",
    "- **Dataset Split**:\n",
    "  - **Training Set**: 60,000 images\n",
    "  - **Test Set**: 10,000 images\n",
    "\n",
    "Due to its simplicity and established benchmarks, MNIST is a popular choice for introductory machine learning exercises, often likened to the \"Hello, World!\" of machine learning.\n",
    "\n",
    "### Loading and Visualizing the MNIST Dataset\n",
    "\n",
    "Let's load the dataset and randomly visualize some of the handwritten digits:"
   ],
   "metadata": {
    "collapsed": false
   },
   "id": "e7094a57a9a538f"
  },
  {
   "cell_type": "code",
   "execution_count": 2,
   "outputs": [
    {
     "data": {
      "text/plain": "<Figure size 600x900 with 3 Axes>",
      "image/png": "[encoded data removed]"
     },
     "metadata": {},
     "output_type": "display_data"
    }
   ],
   "source": [
    "# Load the MNIST dataset\n",
    "DATASET = MNIST(\n",
    "    str(DATA_PATH / \"mnist\"), train=False, transform=ToTensor(), download=True\n",
    ")\n",
    "\n",
    "# Define the number of examples to visualize\n",
    "N_EXAMPLES = 3\n",
    "\n",
    "\n",
    "def setup_figure() -> ndarray[pyplot.Axes]:\n",
    "    \"\"\"Set up a figure for visualization\"\"\"\n",
    "    fig = pyplot.figure(figsize=(6, N_EXAMPLES * 3))\n",
    "    grid_spec = fig.add_gridspec(1, 3, hspace=2)\n",
    "    axs = grid_spec.subplots(sharey='row')\n",
    "    return axs\n",
    "\n",
    "\n",
    "def display_examples(*axs: pyplot.Axes):\n",
    "    \"\"\"Display a few examples from the MNIST dataset\"\"\"\n",
    "    for i in range(N_EXAMPLES):\n",
    "        idx = random.randint(0, len(DATASET))\n",
    "        img, label = DATASET[idx]\n",
    "        view = img.view(28, 28).numpy()\n",
    "        axs[i].set_title(f\"Class: {label}\")\n",
    "        axs[i].imshow(view)\n",
    "\n",
    "\n",
    "display_examples(*setup_figure())"
   ],
   "metadata": {
    "collapsed": false,
    "ExecuteTime": {
     "end_time": "2023-08-21T16:00:30.560134100Z",
     "start_time": "2023-08-21T16:00:30.311609100Z"
    }
   },
   "id": "3d2a06cf609dd86f"
  },
  {
   "cell_type": "markdown",
   "source": [
    "### Using a Pre-Trained Model"
   ],
   "metadata": {
    "collapsed": false
   },
   "id": "4ba11dc54f72eb2"
  },
  {
   "cell_type": "markdown",
   "source": [
    "#### Loading Model Parameters from Disk\n",
    "\n",
    "In a neural network, parameters constitute the weights and biases between units. They're essential because they are learned and adjusted during the training phase, allowing the model to make accurate predictions or classifications.\n",
    "\n",
    "For our task, we've previously trained a model on the MNIST dataset and saved its parameters to disk. Let's load these parameters and initialize our neural network model for further predictions."
   ],
   "metadata": {
    "collapsed": false
   },
   "id": "37673b2d5f821e24"
  },
  {
   "cell_type": "code",
   "execution_count": 3,
   "outputs": [
    {
     "name": "stdout",
     "output_type": "stream",
     "text": [
      "_FeedForwardNetwork__weights.0:\tParameter containing:\n",
      "tensor([[-0.0434, -0.0277,  0.0810,  ...,  0.0464,  0.0212, -0.0093],\n",
      "        [ 0.0317, -0.0156,  0.0085,  ..., -0.0685, -0.0469,  0.0793],\n",
      "        [-0.0363,  0.0138, -0.0749,  ..., -0.0296, -0.0842,  0.0034],\n",
      "        ...,\n",
      "        [ 0.0076, -0.0711, -0.0182,  ...,  0.0188, -0.0464, -0.0825],\n",
      "        [ 0.0712, -0.0772, -0.0423,  ...,  0.0752,  0.0765, -0.0456],\n",
      "        [-0.0221, -0.0771,  0.0210,  ..., -0.0062,  0.0802,  0.0674]],\n",
      "       requires_grad=True)\n",
      "_FeedForwardNetwork__weights.1:\tParameter containing:\n",
      "tensor([[-1.9646e-01,  2.1604e-02,  1.6983e-01, -9.0206e-02,  9.3856e-02,\n",
      "         -1.7801e-01,  1.0716e-01,  5.2494e-01,  1.7323e-01, -4.1204e-01,\n",
      "          3.7815e-01,  3.5523e-01,  2.1409e-01, -3.1517e-01,  1.7885e-01,\n",
      "         -1.4568e-01],\n",
      "        [ 3.7529e-01, -2.4033e-01,  4.6833e-01,  1.9242e-01, -2.6720e-01,\n",
      "          1.8632e-01,  2.5866e-01,  1.5350e-01,  1.1219e-01,  2.4492e-01,\n",
      "          4.2878e-02,  2.0355e-01, -2.0960e-01,  5.5094e-02,  4.0015e-01,\n",
      "          5.4561e-02],\n",
      "        [ 1.5469e-01,  3.4101e-01,  2.2355e-01, -9.5713e-02, -2.7710e-01,\n",
      "         -3.3720e-01,  1.0114e-01, -3.7314e-01,  2.0753e-01,  1.2106e-03,\n",
      "          5.3885e-02,  6.6035e-01,  3.1039e-01, -1.4704e-01,  3.7309e-01,\n",
      "         -4.3773e-01],\n",
      "        [-4.5496e-02, -9.4286e-02,  7.0077e-01, -9.3514e-02,  6.6661e-02,\n",
      "          6.9870e-01, -2.4160e-01,  3.1979e-01, -3.1678e-01, -7.1479e-01,\n",
      "         -5.3554e-01, -6.0466e-01, -2.8719e-01,  6.6804e-02,  1.8432e-01,\n",
      "          1.6330e-01],\n",
      "        [ 3.8659e-01,  4.8951e-01,  2.6936e-01, -2.8975e-01, -6.2307e-03,\n",
      "         -1.2697e-01,  2.0436e-02,  4.3930e-01, -4.7279e-02, -3.2946e-02,\n",
      "          3.1187e-01, -3.5742e-01, -3.4525e-01, -3.5734e-01, -3.8037e-01,\n",
      "         -1.5250e-01],\n",
      "        [-6.3600e-01, -3.3984e-01, -1.8494e-01,  4.5546e-01,  1.0108e-01,\n",
      "         -4.8123e-01, -5.0943e-01, -1.4337e-01, -3.8975e-02, -3.3877e-03,\n",
      "          6.6606e-01,  6.9208e-01,  3.5041e-01, -1.5486e-01,  4.0086e-01,\n",
      "          7.1498e-01],\n",
      "        [ 2.5775e-01,  2.4601e-01,  4.4583e-02, -4.9819e-03, -4.2294e-01,\n",
      "          1.1041e-01, -3.1343e-01,  2.2201e-01,  2.7556e-01, -4.6356e-02,\n",
      "         -3.3984e-01,  2.0765e-01, -1.7435e-01,  2.3649e-01,  2.0649e-01,\n",
      "          4.8960e-01],\n",
      "        [-1.4024e-01,  7.5948e-02, -9.3872e-04,  2.9881e-01,  2.7565e-01,\n",
      "          2.2640e-01,  6.1596e-01, -5.2917e-01, -7.2878e-01,  1.7390e-01,\n",
      "          5.7657e-02,  3.0187e-01, -2.5304e-01, -5.3170e-02, -2.6336e-01,\n",
      "         -7.9202e-01],\n",
      "        [-1.2179e-01,  2.2044e-01,  3.9210e-01, -1.0742e-01,  9.8183e-02,\n",
      "          2.7503e-01, -9.2774e-02, -1.7949e-01,  3.5409e-01,  3.9010e-01,\n",
      "          5.9394e-02,  2.8499e-01, -3.2212e-01, -3.5013e-01, -4.2282e-04,\n",
      "          4.4818e-01],\n",
      "        [ 3.1185e-01,  5.2103e-01, -3.2207e-01, -2.2927e-01,  4.2766e-01,\n",
      "          2.3253e-01,  1.4236e-01, -3.5498e-01, -1.6319e-01,  6.9342e-01,\n",
      "          2.0276e-01, -1.9390e-01, -5.2320e-02,  3.7923e-01, -5.4219e-02,\n",
      "          1.1389e-01],\n",
      "        [ 2.2848e-01, -3.4075e-01, -3.5569e-01,  4.0547e-01,  1.7776e-01,\n",
      "          4.8755e-02,  8.6247e-02, -3.3512e-01, -4.5062e-01,  7.3086e-01,\n",
      "          2.7002e-01,  5.0588e-01, -5.5559e-02,  2.1049e-01, -1.1818e-01,\n",
      "         -2.1361e-02],\n",
      "        [ 1.2475e-01, -4.7846e-01, -5.7985e-02,  8.4148e-02, -3.0043e-01,\n",
      "         -4.0419e-01, -1.7116e-02,  3.4475e-01,  3.7997e-01, -2.1356e-01,\n",
      "         -5.3021e-02, -8.3467e-03, -3.2763e-02, -4.2976e-01,  1.3871e-01,\n",
      "          6.1372e-01],\n",
      "        [ 3.6704e-01, -2.4651e-01, -1.2750e-01, -5.0460e-03, -6.3976e-03,\n",
      "          2.3116e-01, -8.2030e-02,  3.4877e-01,  1.2575e-01,  2.0259e-01,\n",
      "         -6.8099e-01, -5.7240e-01, -5.5869e-02,  9.0300e-02, -4.7633e-01,\n",
      "          3.6812e-02],\n",
      "        [-3.9920e-01,  4.5131e-01,  1.3301e-02, -1.9273e-01, -4.5775e-01,\n",
      "          3.5909e-01, -2.9592e-01,  3.5725e-01,  2.9632e-01, -3.4760e-01,\n",
      "          2.3814e-01, -2.6657e-01, -2.3311e-02, -5.7979e-02,  4.2380e-01,\n",
      "          4.5602e-01],\n",
      "        [ 6.9586e-03,  4.5815e-01, -3.1814e-01,  4.4113e-01,  1.3532e-01,\n",
      "         -1.2554e-01, -9.6317e-01, -3.7965e-01, -6.1444e-01,  6.4836e-01,\n",
      "          1.3634e-01, -2.5489e-01,  1.1518e-01, -7.1826e-02,  7.7452e-01,\n",
      "          5.3296e-01],\n",
      "        [-1.9479e-01,  4.3833e-04, -3.1038e-01, -1.0467e-01,  2.5073e-01,\n",
      "         -5.3262e-01, -1.0534e-01, -6.1349e-01,  2.7524e-01,  2.6367e-01,\n",
      "         -9.7491e-03,  6.9971e-01,  3.5731e-01, -5.9841e-01,  4.0362e-01,\n",
      "         -3.2603e-01],\n",
      "        [ 1.0157e-02, -4.2680e-01,  2.6434e-02, -1.0141e-01, -8.8157e-02,\n",
      "         -2.9192e-01, -6.7027e-01,  4.3778e-01,  1.9965e-01,  5.8140e-01,\n",
      "         -3.7402e-01,  6.4461e-01,  1.6688e-01,  3.7443e-01, -2.9124e-01,\n",
      "         -5.6304e-01],\n",
      "        [-4.5144e-02,  2.4484e-01, -2.0268e-01, -1.3809e-01,  3.8341e-01,\n",
      "          6.1910e-01, -3.6712e-03,  4.0602e-01, -4.6026e-02, -1.6536e-01,\n",
      "         -1.3857e-01, -3.9355e-01, -1.3189e-01,  2.6211e-01,  5.5825e-01,\n",
      "         -3.7207e-01],\n",
      "        [ 2.3123e-01, -8.5913e-02,  1.8365e-01,  1.3122e-01,  8.5254e-02,\n",
      "         -3.8380e-01, -2.6139e-02,  3.4752e-01, -1.8240e-01,  2.5446e-01,\n",
      "          1.0949e-01, -4.2004e-02,  8.4214e-02,  2.5008e-01, -3.7392e-01,\n",
      "          4.3581e-01],\n",
      "        [ 2.0108e-01, -4.1138e-01, -9.2928e-02, -2.7840e-01,  1.2447e-01,\n",
      "         -1.3231e-01,  3.4672e-01,  1.7414e-01,  2.4480e-01, -6.9771e-02,\n",
      "          1.4795e-01,  3.0810e-01, -1.4392e-01,  3.2758e-01,  1.4133e-01,\n",
      "         -2.4491e-02],\n",
      "        [-4.4964e-01, -2.2157e-01, -4.7179e-01, -1.2284e-01,  2.6193e-01,\n",
      "         -1.5723e-01,  3.4840e-01,  5.1879e-01,  4.7084e-01,  1.3861e-01,\n",
      "         -1.5783e-01, -1.8108e-01,  2.7795e-02, -1.0910e-01, -9.1306e-02,\n",
      "         -3.1004e-01],\n",
      "        [-1.8200e-01,  1.7532e-01,  3.2380e-01,  2.6428e-01,  2.4886e-01,\n",
      "         -2.1686e-01,  4.1804e-01, -2.9625e-01, -1.1174e-01, -1.8517e-01,\n",
      "         -2.2330e-02, -1.4397e-01,  8.7467e-03,  4.0896e-01,  4.0011e-01,\n",
      "         -2.2859e-01],\n",
      "        [-3.5911e-01, -5.4696e-02, -5.5482e-01,  1.4198e-01,  3.0541e-02,\n",
      "          7.5244e-01,  3.5548e-01, -2.5097e-02, -1.2877e-01, -2.2361e-02,\n",
      "          3.6822e-01, -3.8994e-01,  1.4244e-01, -1.8033e-01,  1.8494e-01,\n",
      "          6.9152e-01],\n",
      "        [ 1.5222e-01,  1.0526e-01, -5.2937e-01, -4.2962e-01,  1.4997e-01,\n",
      "         -5.3486e-02, -2.3555e-01, -1.3538e-01,  2.8570e-01,  5.9590e-01,\n",
      "          1.8381e-01,  3.9235e-01, -1.9044e-02,  2.3792e-02, -1.9420e-01,\n",
      "         -1.9002e-01],\n",
      "        [-5.8064e-02,  2.3113e-01,  3.7846e-01,  6.2860e-02,  1.9768e-01,\n",
      "          3.3135e-01,  3.8874e-01, -6.3065e-02, -8.7355e-02, -3.2508e-02,\n",
      "         -1.2142e-02,  2.6890e-01,  2.5100e-01,  9.2403e-03, -2.4989e-01,\n",
      "         -2.5991e-01],\n",
      "        [-1.2097e-01, -1.3958e-01, -3.1468e-01,  2.3131e-01, -4.1527e-01,\n",
      "          2.9475e-01, -3.4408e-01,  2.1452e-01,  7.9767e-02,  3.4627e-01,\n",
      "          1.3289e-01,  1.1355e-01,  2.3940e-01, -9.9990e-02, -3.7792e-01,\n",
      "          5.4762e-01],\n",
      "        [-9.4138e-02, -2.0977e-01,  2.7514e-01, -2.5776e-01, -1.8031e-01,\n",
      "          3.6144e-01,  2.0392e-01,  2.7907e-01, -6.5781e-03,  5.5675e-02,\n",
      "          1.8426e-02,  3.6408e-01, -1.4116e-01,  3.2498e-01, -1.5122e-01,\n",
      "          1.8187e-01],\n",
      "        [-1.8241e-01, -2.0111e-02,  3.2975e-01, -1.6863e-01, -1.3893e-01,\n",
      "         -2.5296e-01, -1.6962e-01, -4.6173e-01,  2.9532e-01, -2.1424e-01,\n",
      "          2.6804e-02,  1.1546e-01, -2.1931e-01, -1.5929e-01,  2.8566e-02,\n",
      "          6.6051e-01],\n",
      "        [-2.9169e-01,  9.0677e-02,  3.0132e-01, -8.5590e-02,  2.3184e-01,\n",
      "          2.5619e-01, -1.0800e-01,  3.4692e-01, -3.9501e-01, -3.9383e-01,\n",
      "         -3.0254e-01, -3.9166e-01, -7.6229e-03,  1.5821e-01,  2.3003e-01,\n",
      "          1.5430e-01],\n",
      "        [ 4.3649e-01, -3.5516e-01, -1.9843e-01,  2.1262e-02,  5.9445e-01,\n",
      "          4.1437e-01,  2.9327e-01,  3.0909e-02, -2.0531e-01, -5.4078e-02,\n",
      "         -4.2836e-01, -2.3010e-01,  3.3380e-01,  1.4604e-01, -2.6536e-01,\n",
      "          7.6808e-01],\n",
      "        [-2.4760e-01,  2.5943e-02, -2.6195e-01, -3.9305e-02, -2.7046e-01,\n",
      "          1.2234e-01, -1.7908e-02,  5.4052e-01, -6.4340e-02, -3.4932e-01,\n",
      "          3.0905e-01, -3.7981e-02, -1.1394e-01,  6.4041e-01,  4.8054e-01,\n",
      "         -4.6650e-01],\n",
      "        [ 2.9415e-01, -1.0497e-01,  6.2071e-01,  2.6439e-01,  1.4179e-01,\n",
      "         -5.9171e-02,  2.2739e-01, -2.2152e-01,  4.7848e-02, -5.4465e-01,\n",
      "         -2.6060e-01, -1.8106e-01, -1.9207e-01, -2.1453e-01, -2.4115e-01,\n",
      "         -1.6174e-01]], requires_grad=True)\n",
      "_FeedForwardNetwork__weights.2:\tParameter containing:\n",
      "tensor([[ 0.2433, -0.1409,  0.0973, -0.4553,  0.4607,  0.2510,  0.0200, -0.7079,\n",
      "         -0.2351, -0.1064],\n",
      "        [-0.3771,  0.6754, -0.2679, -0.7515, -0.6091,  0.2948, -0.6478,  0.3048,\n",
      "         -0.2167,  0.2373],\n",
      "        [-0.5866,  0.2071, -0.5606,  0.2496,  0.3865, -0.4242, -0.1996, -0.3318,\n",
      "          0.4924,  0.5824],\n",
      "        [-0.6119, -0.2863, -0.7893, -0.8210, -0.6417,  0.6470, -0.1107, -0.9474,\n",
      "         -0.3102, -0.3338],\n",
      "        [-0.1608, -0.3884,  0.3097, -0.1123,  0.5382,  0.3911,  0.1504,  0.6482,\n",
      "         -0.7074, -0.9462],\n",
      "        [ 0.1216,  0.3569,  0.2814,  0.1209,  0.3455, -0.8596, -0.0439,  0.3356,\n",
      "         -0.4176, -0.2556],\n",
      "        [ 0.0302, -0.6369, -0.3754, -0.5515,  0.5159, -0.1222, -0.4519,  0.3366,\n",
      "          0.1050, -0.1601],\n",
      "        [-0.0503, -0.6736,  0.4525, -0.2634, -0.2403, -0.2542, -0.6375, -0.1105,\n",
      "         -0.3570,  0.2048],\n",
      "        [ 0.3753, -0.5804,  0.3369,  0.1450, -0.6849, -0.0211, -0.6211, -0.6345,\n",
      "          0.4585, -0.4030],\n",
      "        [ 0.5156,  0.1354, -0.1913, -0.5751, -0.1927,  0.2815,  0.5194, -0.5735,\n",
      "         -0.3728, -0.2703],\n",
      "        [-0.3354, -0.4742, -0.2310, -0.4761, -0.8645,  0.2571, -0.1849,  0.6170,\n",
      "         -0.0510, -0.3592],\n",
      "        [ 0.2776, -0.8616, -0.4101,  0.4624, -0.3822,  0.3788,  0.5701, -0.1127,\n",
      "          0.4038,  0.2998],\n",
      "        [-0.4123,  0.1933, -0.3106,  0.2715,  0.2816, -0.1222, -0.0156, -0.2666,\n",
      "         -0.4804, -0.5328],\n",
      "        [-0.2344, -0.7239,  0.2240, -0.1382, -0.1634, -0.6043,  0.1921,  0.0566,\n",
      "         -0.9730,  0.1632],\n",
      "        [-0.4864,  0.3355, -0.6125,  0.5956, -0.5477,  0.5281, -0.9203,  0.0864,\n",
      "         -0.6197, -0.2038],\n",
      "        [-0.9081,  0.3341,  0.1401, -0.1027, -0.4733, -0.2130, -0.1310, -0.2294,\n",
      "         -0.0061, -0.8436]], requires_grad=True)\n",
      "_FeedForwardNetwork__biases.0:\tParameter containing:\n",
      "tensor([-0.0240,  0.0347,  0.0707,  0.0576,  0.1989, -0.0679,  0.0270, -0.1185,\n",
      "         0.0520,  0.0969, -0.0379, -0.0688,  0.0954, -0.0147,  0.0384, -0.0968,\n",
      "        -0.0544,  0.1216,  0.2336,  0.0257,  0.0087,  0.1879, -0.0560,  0.0930,\n",
      "         0.0915,  0.0187, -0.0319, -0.0368,  0.1018,  0.1573,  0.1195,  0.0610],\n",
      "       requires_grad=True)\n",
      "_FeedForwardNetwork__biases.1:\tParameter containing:\n",
      "tensor([ 0.1772,  0.2559,  0.1173,  0.0675,  0.1398, -0.0413,  0.1284,  0.0763,\n",
      "        -0.0336,  0.0919,  0.0619, -0.1077, -0.0014,  0.0761,  0.0107,  0.2065],\n",
      "       requires_grad=True)\n",
      "_FeedForwardNetwork__biases.2:\tParameter containing:\n",
      "tensor([-0.1841,  0.1299,  0.0363, -0.1974,  0.0875,  0.1237, -0.2129, -0.1553,\n",
      "        -0.0097,  0.1864], requires_grad=True)\n"
     ]
    }
   ],
   "source": [
    "# Load weights and biases for hidden layers\n",
    "weights = [torch.from_numpy(loadtxt(DATA_PATH / f\"W{i}.txt\")).float() for i in (1, 2)]\n",
    "biases = [torch.from_numpy(loadtxt(DATA_PATH / f\"b{i}.txt\")).float() for i in (1, 2)]\n",
    "\n",
    "# Load weights and biases for the output layer\n",
    "output_weights = torch.from_numpy(loadtxt(DATA_PATH / \"U.txt\")).float()\n",
    "output_biases = torch.from_numpy(loadtxt(DATA_PATH / \"c.txt\")).float()\n",
    "\n",
    "# Initialize the neural network model\n",
    "MNIST_MODEL = FeedForwardNetwork(\n",
    "    n_features=784,\n",
    "    hidden_layer_sizes=[16, 16],\n",
    "    activation_functions=[relu, relu],\n",
    "    n_classes=10,\n",
    ")\n",
    "\n",
    "# Inject the loaded parameters into the model\n",
    "MNIST_MODEL.load_parameters(weights, output_weights, biases, output_biases)\n",
    "\n",
    "# Display the initialized model\n",
    "print(MNIST_MODEL)"
   ],
   "metadata": {
    "collapsed": false,
    "ExecuteTime": {
     "end_time": "2023-08-21T16:00:30.605079600Z",
     "start_time": "2023-08-21T16:00:30.558137Z"
    }
   },
   "id": "bd77cf48854b6ef4"
  },
  {
   "cell_type": "markdown",
   "source": [
    "#### Making Predictions with the Model\n",
    "\n",
    "After successfully loading the model and dataset, it's time to use our model to make predictions. We'll select a subset of images from the MNIST dataset at random and visualize their true and predicted class labels."
   ],
   "metadata": {
    "collapsed": false
   },
   "id": "a2ab362a591ceb76"
  },
  {
   "cell_type": "code",
   "execution_count": 4,
   "outputs": [
    {
     "data": {
      "text/plain": "<Figure size 600x900 with 3 Axes>",
      "image/png": "[encoded data removed]"
     },
     "metadata": {},
     "output_type": "display_data"
    }
   ],
   "source": [
    "def display_predictions(*axs: pyplot.Axes) -> None:\n",
    "    \"\"\"\n",
    "    Visualize predictions for a subset of the MNIST dataset.\n",
    "\n",
    "    This function randomly selects images from the MNIST dataset, makes predictions using\n",
    "    the loaded model, and visualizes the images alongside their true and predicted class labels.\n",
    "\n",
    "    :param axs: A list of Axes objects to display the images and predictions.\n",
    "    \"\"\"\n",
    "    for i in range(N_EXAMPLES):\n",
    "        idx = random.randint(0, len(DATASET))\n",
    "        img, true_label = DATASET[idx]\n",
    "        img_view = img.view(28, 28).numpy()\n",
    "\n",
    "        # Predicting the class label using the model\n",
    "        pred_prob, pred_label = torch.max(MNIST_MODEL(img.view(1, 784)), dim=1)\n",
    "\n",
    "        # Displaying the image along with true and predicted labels\n",
    "        axs[i].imshow(img_view)\n",
    "        axs[i].set_title(\n",
    "            f\"True Class: {true_label}\\n\"\n",
    "            f\"Predicted Class: {pred_label.item()}\\n\"\n",
    "            f\"Confidence: {pred_prob.item():.2f}\"\n",
    "        )\n",
    "\n",
    "\n",
    "# Using the function to display predictions\n",
    "display_predictions(*setup_figure())"
   ],
   "metadata": {
    "collapsed": false,
    "ExecuteTime": {
     "end_time": "2023-08-21T16:00:31.477710600Z",
     "start_time": "2023-08-21T16:00:30.583080Z"
    }
   },
   "id": "1a1bfc1269f5a8c8"
  },
  {
   "cell_type": "markdown",
   "source": [
    "#### Evaluating Model Performance\n",
    "\n",
    "We want to see how well our model does on all the pictures we have. We'll use a function that goes through all the images in small groups, makes guesses with our model, and then counts how many guesses are right. In the end, we'll see what percentage of the guesses were correct."
   ],
   "metadata": {
    "collapsed": false
   },
   "id": "946ded82ce4c3a3c"
  },
  {
   "cell_type": "code",
   "execution_count": 5,
   "outputs": [
    {
     "name": "stdout",
     "output_type": "stream",
     "text": [
      "\n",
      "loss1: 1.60990309715271\n",
      "loss1: 1.60990309715271\n",
      "appgrad: 0.0\n",
      "diff: 0.0005208067013882101\n",
      "\n",
      "loss1: 1.6099032163619995\n",
      "loss1: 1.6099029779434204\n",
      "appgrad: -1.1920928924980673e-13\n",
      "diff: 0.03014838881790638\n",
      "\n",
      "loss1: 1.60990309715271\n",
      "loss1: 1.60990309715271\n",
      "appgrad: 0.0\n",
      "diff: 4.768371808516747e-10\n",
      "\n",
      "loss1: 1.60990309715271\n",
      "loss1: 1.60990309715271\n",
      "appgrad: 0.0\n",
      "diff: 0.037704695016145706\n",
      "\n",
      "loss1: 1.60990309715271\n",
      "loss1: 1.60990309715271\n",
      "appgrad: 0.0\n",
      "diff: 0.06127149239182472\n",
      "\n",
      "loss1: 1.6099032163619995\n",
      "loss1: 1.6099032163619995\n",
      "appgrad: 0.0\n",
      "diff: 2.9802322831784522e-09\n"
     ]
    }
   ],
   "source": [
    "# No es necesario que entregues código en esta parte dado \n",
    "# que solo es necesario para debuggear que tu implementación está correcta.\n",
    "# Pero si quieres, igual hay espacio ;-)\n",
    "\n",
    "epsilon = 1e-6\n",
    "\n",
    "with torch.no_grad():\n",
    "    N, F, C = 100, 300, 10\n",
    "    model = FeedForwardNetwork(F, [100, 200], [sigmoid, relu], C)\n",
    "    params = list(model.parameters())\n",
    "    x = torch.randn(N, F)\n",
    "    y = torch.zeros(N, C)\n",
    "    targets = torch.randint(0, C, (N,))\n",
    "    y[torch.arange(N), targets] = 1\n",
    "\n",
    "    for i in range(len(params)):\n",
    "        params[i] -= epsilon\n",
    "        y_pred = model(x)\n",
    "        loss1 = cross_entropy(y_pred, y)\n",
    "        print(f'\\nloss1: {loss1}')\n",
    "\n",
    "        params[i] += 2 * epsilon\n",
    "        y_pred = model(x)\n",
    "        loss2 = cross_entropy(y_pred, y)\n",
    "        print(f'loss1: {loss2}')\n",
    "\n",
    "        appgrad = (loss2 - loss1) / 2 * epsilon\n",
    "        print(f'appgrad: {appgrad}')\n",
    "\n",
    "        params[i] -= epsilon\n",
    "        y_pred = model(x)\n",
    "        model.backward(x, y, y_pred)\n",
    "        print(f'diff: {abs(appgrad - params[i].grad.mean())}')\n",
    "        # print('grad after backward:', params[i].grad)"
   ],
   "metadata": {
    "collapsed": false,
    "ExecuteTime": {
     "end_time": "2023-08-21T16:00:32.150872400Z",
     "start_time": "2023-08-21T16:00:31.475715400Z"
    }
   },
   "id": "b967ec6c673db514"
  },
  {
   "cell_type": "markdown",
   "source": [
    "### Training a Neural Network with Backpropagation\n",
    "\n",
    "Backpropagation is like a teacher for neural networks. It helps the network learn from mistakes by making small changes to its internal settings. Here's how it works:\n",
    "\n",
    "1. **Learning from Examples:** We show the network many examples and tell it the correct answers.\n",
    "2. **Making Guesses:** The network tries to guess the answer for each example.\n",
    "3. **Checking Mistakes:** After guessing, we check how far off its guess was from the correct answer.\n",
    "4. **Learning from Mistakes:** Using the mistakes it made, the network fine-tunes its internal settings to guess better next time.\n",
    "5. **Repeat:** We keep showing examples until the network gets good at guessing right.\n",
    "\n",
    "The magic of backpropagation is in step 4, where it figures out which settings to tweak and by how much. This \"tweaking\" is done using a math trick called gradient descent."
   ],
   "metadata": {
    "collapsed": false
   },
   "id": "9d1b614c4ff7149c"
  },
  {
   "cell_type": "markdown",
   "source": [
    "#### Checking if Gradients are Correct: Gradient Checking\n",
    "\n",
    "Imagine you've got a math formula, and you've made some changes to it. You'd want to double-check if your changes were right. That's what gradient checking does for neural networks.\n",
    "\n",
    "In simple terms, gradient checking compares two methods of finding gradients (slopes). One method uses the standard backpropagation technique. The other uses a quick-and-dirty method called \"finite difference approximation.\" If both methods give similar answers, we can be pretty sure our backpropagation is set up correctly.\n",
    "\n",
    "Here's a simple way to do gradient checking:"
   ],
   "metadata": {
    "collapsed": false
   },
   "id": "a079efc81c08a434"
  },
  {
   "cell_type": "code",
   "execution_count": 6,
   "outputs": [
    {
     "name": "stdout",
     "output_type": "stream",
     "text": [
      "Difference between estimated and real gradient: 0.29879987239837646\n",
      "Difference between estimated and real gradient: 0.9952932596206665\n",
      "Difference between estimated and real gradient: 1.907348723406699e-09\n",
      "Difference between estimated and real gradient: 0.0657358467578888\n",
      "Difference between estimated and real gradient: 0.08229721337556839\n",
      "Difference between estimated and real gradient: 8.940697071579962e-09\n"
     ]
    }
   ],
   "source": [
    "def check_gradients(epsilon: float = 1e-6):\n",
    "    # Disable tracking computations\n",
    "    with torch.no_grad():\n",
    "        # Set some basics and random data\n",
    "        samples = 100\n",
    "        input_size = 300\n",
    "        output_classes = 10\n",
    "\n",
    "        # Set up a basic neural network\n",
    "        model = FeedForwardNetwork(input_size, [100, 200], [sigmoid, relu], output_classes)\n",
    "        parameters = list(model.parameters())\n",
    "\n",
    "        # Random input\n",
    "        input_data = torch.randn(samples, input_size)\n",
    "\n",
    "        # Make random target labels\n",
    "        labels = torch.zeros(samples, output_classes)\n",
    "        targets = torch.randint(0, output_classes, (samples,))\n",
    "        labels[torch.arange(samples), targets] = 1\n",
    "\n",
    "        for param in parameters:\n",
    "            # Check the loss when we reduce the parameter a tiny bit\n",
    "            param -= epsilon\n",
    "            pred_minus = model(input_data)\n",
    "            loss_minus = loss.cross_entropy(pred_minus, labels)\n",
    "\n",
    "            # Check the loss when we increase the parameter a tiny bit\n",
    "            param += 2 * epsilon\n",
    "            pred_plus = model(input_data)\n",
    "            loss_plus = loss.cross_entropy(pred_plus, labels)\n",
    "\n",
    "            # Quick-and-dirty gradient calculation\n",
    "            estimated_gradient = (loss_plus - loss_minus) / (2 * epsilon)\n",
    "\n",
    "            # Bring parameter back to original\n",
    "            param -= epsilon\n",
    "\n",
    "            # Get the actual gradient using backpropagation\n",
    "            pred = model(input_data)\n",
    "            model.backward(input_data, labels, pred)\n",
    "\n",
    "            # See how different the two gradients are\n",
    "            difference = torch.abs(estimated_gradient - torch.mean(param.grad))\n",
    "            print(f\"Difference between estimated and real gradient: {difference}\")\n",
    "\n",
    "\n",
    "# Run our gradient check\n",
    "check_gradients()"
   ],
   "metadata": {
    "collapsed": false,
    "ExecuteTime": {
     "end_time": "2023-08-21T16:00:32.191052100Z",
     "start_time": "2023-08-21T16:00:32.146873400Z"
    }
   },
   "id": "23784c7957683169"
  },
  {
   "cell_type": "markdown",
   "source": [
    "#### Training the Model\n",
    "\n",
    "Now that we've verified that our gradients are correct, we can train our model. We'll use a RandomDataset. This dataset generates random data and labels on the fly. It's useful for testing and debugging."
   ],
   "metadata": {
    "collapsed": false
   },
   "id": "110bea0705b2945b"
  },
  {
   "cell_type": "code",
   "execution_count": 7,
   "outputs": [],
   "source": [
    "def plot_loss_and_accuracy(losses: list[float], accuracies: list[float]):\n",
    "    \"\"\"Plot the loss and accuracy of the model during training\"\"\"\n",
    "    fig, axs = pyplot.subplots(1, 2, figsize=(12, 6))\n",
    "    axs[0].plot(losses)\n",
    "    axs[0].set_title(\"Loss\")\n",
    "    axs[0].set_xlabel(\"Epoch\")\n",
    "    axs[1].plot(accuracies)\n",
    "    axs[1].set_title(\"Accuracy\")\n",
    "    axs[1].set_xlabel(\"Epoch\")\n",
    "    pyplot.show()"
   ],
   "metadata": {
    "collapsed": false,
    "ExecuteTime": {
     "end_time": "2023-08-21T16:00:32.192052300Z",
     "start_time": "2023-08-21T16:00:32.166873300Z"
    }
   },
   "id": "df04e4e0e7706d12"
  },
  {
   "cell_type": "code",
   "execution_count": 8,
   "outputs": [
    {
     "name": "stdout",
     "output_type": "stream",
     "text": [
      "Epoch:100 Acc:100.00% Loss:0.0000 Tiempo/epoch:0.196s"
     ]
    },
    {
     "name": "stderr",
     "output_type": "stream",
     "text": [
      "C:\\Users\\Ignacio\\AppData\\Local\\Temp\\ipykernel_3028\\511168794.py:60: UserWarning: Matplotlib is currently using module://matplotlib_inline.backend_inline, which is a non-GUI backend, so cannot show the figure.\n",
      "  f1.show()\n",
      "C:\\Users\\Ignacio\\AppData\\Local\\Temp\\ipykernel_3028\\511168794.py:68: UserWarning: Matplotlib is currently using module://matplotlib_inline.backend_inline, which is a non-GUI backend, so cannot show the figure.\n",
      "  f2.show()\n"
     ]
    },
    {
     "data": {
      "text/plain": "<Figure size 640x480 with 1 Axes>",
      "image/png": "[encoded data removed]"
     },
     "metadata": {},
     "output_type": "display_data"
    },
    {
     "data": {
      "text/plain": "<Figure size 640x480 with 1 Axes>",
      "image/png": "[encoded data removed]"
     },
     "metadata": {},
     "output_type": "display_data"
    }
   ],
   "source": [
    "def train_feed_forward_network(\n",
    "        red, dataset, optimizador, epochs=1, batch_size=1, reports_every=1, device=Device.CPU\n",
    "):\n",
    "    red.to(device)\n",
    "    data = DataLoader(dataset, batch_size, shuffle=True)\n",
    "    total = len(dataset)\n",
    "    tiempo_epochs = 0\n",
    "    loss, acc = [], []\n",
    "    for e in range(1, epochs + 1):\n",
    "        inicio_epoch = timer()\n",
    "\n",
    "        for x, y in data:\n",
    "            x, y = x.view(x.size(0), -1).float().to(device), y.to(device)\n",
    "\n",
    "            y_pred = red(x)\n",
    "\n",
    "            y_onehot = torch.zeros_like(y_pred)\n",
    "            y_onehot[torch.arange(x.size(0)), y] = 1.0\n",
    "\n",
    "            red.backward(x, y_onehot, y_pred)\n",
    "\n",
    "            optimizador.step()\n",
    "\n",
    "        tiempo_epochs += timer() - inicio_epoch\n",
    "\n",
    "        if e % reports_every == 0:\n",
    "            X = dataset.data.view(len(dataset), -1).float().to(device)\n",
    "            Y = dataset.labels.to(device)\n",
    "\n",
    "            Y_PRED = red.forward(X).to(device)\n",
    "\n",
    "            Y_onehot = torch.zeros_like(Y_PRED)\n",
    "            Y_onehot[torch.arange(X.size(0)), Y] = 1.0\n",
    "\n",
    "            L_total = cross_entropy(Y_PRED, Y_onehot)\n",
    "            loss.append(L_total)\n",
    "            diff = Y - torch.argmax(Y_PRED, 1)\n",
    "            errores = torch.nonzero(diff).size(0)\n",
    "\n",
    "            Acc = 100 * (total - errores) / total\n",
    "            acc.append(Acc)\n",
    "\n",
    "            sys.stdout.write(\n",
    "                \"\\rEpoch:{0:03d}\".format(e)\n",
    "                + \" Acc:{0:.2f}%\".format(Acc)\n",
    "                + \" Loss:{0:.4f}\".format(L_total)\n",
    "                + \" Tiempo/epoch:{0:.3f}s\".format(tiempo_epochs / e)\n",
    "            )\n",
    "\n",
    "    return loss, acc\n",
    "\n",
    "\n",
    "def plot_results(loss, acc):\n",
    "    f1 = pyplot.figure(1)\n",
    "    ax1 = f1.add_subplot(111)\n",
    "    ax1.set_title(\"Loss\")\n",
    "    ax1.set_xlabel(\"epochs\")\n",
    "    ax1.set_ylabel(\"loss\")\n",
    "    ax1.plot(loss, c=\"r\")\n",
    "    f1.show()\n",
    "\n",
    "    f2 = pyplot.figure(2)\n",
    "    ax2 = f2.add_subplot(111)\n",
    "    ax2.set_title(\"Accuracy\")\n",
    "    ax2.set_xlabel(\"epochs\")\n",
    "    ax2.set_ylabel(\"acc\")\n",
    "    ax2.plot(acc, c=\"b\")\n",
    "    f2.show()\n",
    "\n",
    "\n",
    "N, F, C = 2000, 300, 10\n",
    "dataset = RandomUniformDataset(N, F, C)\n",
    "\n",
    "model = FeedForwardNetwork(F, [300, 400], [celu, relu], C, [float(C), None])\n",
    "optimizer = StochasticGradientDescent(model.parameters(), learning_rate=1e-3)\n",
    "with torch.no_grad():\n",
    "    loss1, acc1 = train_feed_forward_network(\n",
    "        model, dataset, optimizer, epochs=100, batch_size=32\n",
    "    )\n",
    "\n",
    "plot_results(loss1, acc1)"
   ],
   "metadata": {
    "collapsed": false,
    "ExecuteTime": {
     "end_time": "2023-08-21T16:00:53.665947700Z",
     "start_time": "2023-08-21T16:00:32.170053300Z"
    }
   },
   "id": "c1825dedf74b9dcf"
  },
  {
   "cell_type": "code",
   "execution_count": 8,
   "outputs": [],
   "source": [],
   "metadata": {
    "collapsed": false,
    "ExecuteTime": {
     "end_time": "2023-08-21T16:00:53.667811100Z",
     "start_time": "2023-08-21T16:00:53.666817700Z"
    }
   },
   "id": "9a82017c7cd16eff"
  }
 ],
 "metadata": {
  "kernelspec": {
   "display_name": "Python 3",
   "language": "python",
   "name": "python3"
  },
  "language_info": {
   "codemirror_mode": {
    "name": "ipython",
    "version": 2
   },
   "file_extension": ".py",
   "mimetype": "text/x-python",
   "name": "python",
   "nbconvert_exporter": "python",
   "pygments_lexer": "ipython2",
   "version": "2.7.6"
  }
 },
 "nbformat": 4,
 "nbformat_minor": 5
}
