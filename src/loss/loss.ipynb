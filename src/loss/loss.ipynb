{
 "cells": [
  {
   "cell_type": "markdown",
   "source": [
    "# Loss functions"
   ],
   "metadata": {
    "collapsed": false
   },
   "id": "83b5ff4a40705d2"
  },
  {
   "cell_type": "code",
   "execution_count": 5,
   "outputs": [],
   "source": [
    "from pathlib import Path\n",
    "\n",
    "ROOT_DIR = Path('..') / '..'\n",
    "!pip install -q -r {ROOT_DIR / 'requirements.txt'}\n",
    "\n",
    "import torch"
   ],
   "metadata": {
    "collapsed": false,
    "ExecuteTime": {
     "end_time": "2023-08-19T04:41:23.792836800Z",
     "start_time": "2023-08-19T04:41:21.696875600Z"
    }
   },
   "id": "142a7754c54dcec7"
  },
  {
   "cell_type": "markdown",
   "source": [
    "## Cross entropy loss\n",
    "\n",
    "$$H(p, q) = - \\sum_{x \\in X} p(x) log(q(x))$$"
   ],
   "metadata": {
    "collapsed": false
   },
   "id": "afd2e68224b82a87"
  },
  {
   "cell_type": "markdown",
   "source": [
    "## Examples"
   ],
   "metadata": {
    "collapsed": false
   },
   "id": "c26debeb0fa2a024"
  },
  {
   "cell_type": "code",
   "execution_count": 6,
   "outputs": [],
   "source": [
    "from loss import cross_entropy"
   ],
   "metadata": {
    "collapsed": false,
    "ExecuteTime": {
     "end_time": "2023-08-19T04:41:23.798642200Z",
     "start_time": "2023-08-19T04:41:23.794444400Z"
    }
   },
   "id": "54a4691ecefdcc57"
  },
  {
   "cell_type": "markdown",
   "source": [
    "### 1. Simple Binary Classification"
   ],
   "metadata": {
    "collapsed": false
   },
   "id": "68c549bfd6b0ec02"
  },
  {
   "cell_type": "code",
   "execution_count": 7,
   "outputs": [
    {
     "name": "stdout",
     "output_type": "stream",
     "text": [
      "tensor(0.0821)\n"
     ]
    }
   ],
   "source": [
    "# Example predictions for binary classification\n",
    "predictions = torch.tensor([0.9, 0.3, 0.2, 0.8])\n",
    "\n",
    "# Corresponding ground truth labels (either 0 or 1)\n",
    "targets = torch.tensor([1, 0, 0, 1])\n",
    "\n",
    "loss = cross_entropy(predictions, targets)\n",
    "print(loss) # tensor(0.0821)"
   ],
   "metadata": {
    "collapsed": false,
    "ExecuteTime": {
     "end_time": "2023-08-19T04:41:23.808389700Z",
     "start_time": "2023-08-19T04:41:23.796440400Z"
    }
   },
   "id": "587480de4a874464"
  },
  {
   "cell_type": "markdown",
   "source": [
    "### 2. Multi-class Classification\n",
    "\n",
    "For multi-class classification problems, the cross entropy function should be used with softmax outputs. Here's a simplified example:"
   ],
   "metadata": {
    "collapsed": false
   },
   "id": "16601d92eb8cfd98"
  },
  {
   "cell_type": "code",
   "execution_count": 8,
   "outputs": [
    {
     "name": "stdout",
     "output_type": "stream",
     "text": [
      "tensor(0.1035)\n"
     ]
    }
   ],
   "source": [
    "from activations import softmax\n",
    "\n",
    "# Mock predictions from a network (logits)\n",
    "logits = torch.tensor([[2.0, 1.0, 0.1], [0.5, 2.5, 0.1]])\n",
    "\n",
    "# Convert logits to probabilities\n",
    "predictions = softmax(logits, dim=1)\n",
    "\n",
    "# Ground truth in one-hot encoded format\n",
    "targets = torch.tensor([[1, 0, 0], [0, 1, 0]])\n",
    "\n",
    "loss = cross_entropy(predictions, targets)\n",
    "print(loss)"
   ],
   "metadata": {
    "collapsed": false,
    "ExecuteTime": {
     "end_time": "2023-08-19T04:41:23.944756100Z",
     "start_time": "2023-08-19T04:41:23.807325300Z"
    }
   },
   "id": "71568d76fa7a094f"
  },
  {
   "cell_type": "markdown",
   "source": [
    "### 3. Using the Stable Version\n",
    "\n",
    "As with the softmax function, numerical instability can sometimes be an issue when dealing with very small or very large values. Here's how to use the stable version:"
   ],
   "metadata": {
    "collapsed": false
   },
   "id": "90c42c6172caff74"
  },
  {
   "cell_type": "code",
   "execution_count": 9,
   "outputs": [
    {
     "name": "stdout",
     "output_type": "stream",
     "text": [
      "tensor(0.0264)\n"
     ]
    }
   ],
   "source": [
    "# Some mock predictions\n",
    "predictions = torch.tensor([0.9999, 0.0001, 0.9, 0.1])\n",
    "\n",
    "# Corresponding ground truth\n",
    "targets = torch.tensor([1, 0, 1, 0])\n",
    "\n",
    "loss = cross_entropy(predictions, targets, stable=True)\n",
    "print(loss)"
   ],
   "metadata": {
    "collapsed": false,
    "ExecuteTime": {
     "end_time": "2023-08-19T04:41:23.948776900Z",
     "start_time": "2023-08-19T04:41:23.944756100Z"
    }
   },
   "id": "bd0762125773bc27"
  },
  {
   "cell_type": "markdown",
   "source": [
    "### 4. Avoiding Zero Predictions"
   ],
   "metadata": {
    "collapsed": false
   },
   "id": "832d0d6da4b2b28a"
  },
  {
   "cell_type": "markdown",
   "source": [
    "The `eps` parameter helps to avoid taking the logarithm of zero:"
   ],
   "metadata": {
    "collapsed": false
   },
   "id": "817ec4c65a139652"
  },
  {
   "cell_type": "code",
   "execution_count": 10,
   "outputs": [
    {
     "name": "stdout",
     "output_type": "stream",
     "text": [
      "tensor(0.0263)\n"
     ]
    }
   ],
   "source": [
    "# Mock predictions with a zero\n",
    "predictions = torch.Tensor([1.0, 0.0, 0.9, 0.2])\n",
    "\n",
    "# Corresponding ground truth\n",
    "targets = torch.Tensor([1, 0, 1, 0])\n",
    "\n",
    "# Using an epsilon value\n",
    "loss = cross_entropy(predictions, targets, stable=True, eps=1e-8)\n",
    "print(loss)"
   ],
   "metadata": {
    "collapsed": false,
    "ExecuteTime": {
     "end_time": "2023-08-19T04:41:23.959166700Z",
     "start_time": "2023-08-19T04:41:23.949777200Z"
    }
   },
   "id": "a1b3e24417e7aa2d"
  },
  {
   "cell_type": "markdown",
   "source": [
    "### 5. Dealing with Batches\n",
    "\n",
    "Typically, when training neural networks, we process inputs in batches. The function can handle batched inputs seamlessly:"
   ],
   "metadata": {
    "collapsed": false
   },
   "id": "2361c094edb6c317"
  },
  {
   "cell_type": "code",
   "execution_count": 11,
   "outputs": [
    {
     "name": "stdout",
     "output_type": "stream",
     "text": [
      "tensor(0.1142)\n"
     ]
    }
   ],
   "source": [
    "# Batched predictions\n",
    "predictions = torch.Tensor([[0.9, 0.1], [0.7, 0.3], [0.2, 0.8]])\n",
    "\n",
    "# Batched targets\n",
    "targets = torch.Tensor([[1, 0], [1, 0], [0, 1]])\n",
    "\n",
    "loss = cross_entropy(predictions, targets)\n",
    "print(loss)"
   ],
   "metadata": {
    "collapsed": false,
    "ExecuteTime": {
     "end_time": "2023-08-19T04:41:23.963166200Z",
     "start_time": "2023-08-19T04:41:23.958166200Z"
    }
   },
   "id": "7e3cc9baa4b1b32a"
  }
 ],
 "metadata": {
  "kernelspec": {
   "display_name": "Python 3",
   "language": "python",
   "name": "python3"
  },
  "language_info": {
   "codemirror_mode": {
    "name": "ipython",
    "version": 2
   },
   "file_extension": ".py",
   "mimetype": "text/x-python",
   "name": "python",
   "nbconvert_exporter": "python",
   "pygments_lexer": "ipython2",
   "version": "2.7.6"
  }
 },
 "nbformat": 4,
 "nbformat_minor": 5
}
